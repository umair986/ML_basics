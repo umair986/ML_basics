{
  "nbformat": 4,
  "nbformat_minor": 0,
  "metadata": {
    "colab": {
      "provenance": [],
      "authorship_tag": "ABX9TyPmJnZVY4bLzGmhqYsmWrmV",
      "include_colab_link": true
    },
    "kernelspec": {
      "name": "python3",
      "display_name": "Python 3"
    },
    "language_info": {
      "name": "python"
    }
  },
  "cells": [
    {
      "cell_type": "markdown",
      "metadata": {
        "id": "view-in-github",
        "colab_type": "text"
      },
      "source": [
        "<a href=\"https://colab.research.google.com/github/umair986/ML_basics/blob/main/MNIST.ipynb\" target=\"_parent\"><img src=\"https://colab.research.google.com/assets/colab-badge.svg\" alt=\"Open In Colab\"/></a>"
      ]
    },
    {
      "cell_type": "code",
      "execution_count": 2,
      "metadata": {
        "id": "3c2dmPoOQLrY"
      },
      "outputs": [],
      "source": [
        "import tensorflow as tf\n",
        "from tensorflow import keras\n",
        "mnist = keras.datasets.mnist\n",
        "(X_train, Y_train), (X_test, Y_test) =mnist.load_data()"
      ]
    },
    {
      "cell_type": "code",
      "source": [
        "print(X_train.shape)\n",
        "print(X_test.shape)\n"
      ],
      "metadata": {
        "colab": {
          "base_uri": "https://localhost:8080/"
        },
        "id": "s577fby5RffV",
        "outputId": "b6052e42-a227-47a3-a833-012ae255abe5"
      },
      "execution_count": 3,
      "outputs": [
        {
          "output_type": "stream",
          "name": "stdout",
          "text": [
            "(60000, 28, 28)\n",
            "(10000, 28, 28)\n"
          ]
        }
      ]
    },
    {
      "cell_type": "code",
      "source": [
        "RESHAPED = 784\n",
        "X_train = X_train.reshape(60000, RESHAPED)\n",
        "X_test = X_test.reshape(10000, RESHAPED)\n",
        "X_train = X_train.astype('float32')\n",
        "X_test = X_test.astype('float32')\n"
      ],
      "metadata": {
        "id": "dZT0P1mRRgj2"
      },
      "execution_count": 4,
      "outputs": []
    },
    {
      "cell_type": "code",
      "source": [
        "X_train /= 255\n",
        "X_test /= 255\n"
      ],
      "metadata": {
        "id": "8A-MuXbqRlVT"
      },
      "execution_count": 5,
      "outputs": []
    },
    {
      "cell_type": "code",
      "source": [
        "print(X_train.shape[0], 'train samples')\n",
        "print(X_test.shape[0], 'test samples')"
      ],
      "metadata": {
        "colab": {
          "base_uri": "https://localhost:8080/"
        },
        "id": "ud0fBjctRnQ5",
        "outputId": "494241a5-1deb-41a4-8bbe-b29a2d7649b9"
      },
      "execution_count": 6,
      "outputs": [
        {
          "output_type": "stream",
          "name": "stdout",
          "text": [
            "60000 train samples\n",
            "10000 test samples\n"
          ]
        }
      ]
    },
    {
      "cell_type": "code",
      "source": [
        "Y_train = tf.keras.utils.to_categorical(Y_train, 10)\n",
        "Y_test = tf.keras.utils.to_categorical(Y_test, 10)\n",
        "\n"
      ],
      "metadata": {
        "id": "Z-yZ1rnhRpR5"
      },
      "execution_count": 7,
      "outputs": []
    },
    {
      "cell_type": "code",
      "source": [
        "import tensorflow as tf\n",
        "from tensorflow.keras.layers import Dense\n",
        "from tensorflow.keras import Sequential\n"
      ],
      "metadata": {
        "id": "NvDvPCxtRraq"
      },
      "execution_count": 8,
      "outputs": []
    },
    {
      "cell_type": "code",
      "source": [
        "model_1 = Sequential()\n",
        "model_1.add(Dense(10, input_shape=(784,), name='dense_layer', activation = 'softmax'))\n"
      ],
      "metadata": {
        "id": "Gc5mu9tzRuNH"
      },
      "execution_count": 9,
      "outputs": []
    },
    {
      "cell_type": "code",
      "source": [
        "from keras import optimizers\n",
        "\n",
        "model_1.compile(optimizer='SGD',\n",
        "loss='categorical_crossentropy',\n",
        "metrics=['accuracy'])"
      ],
      "metadata": {
        "id": "yEMSnYJkRxLZ"
      },
      "execution_count": 10,
      "outputs": []
    },
    {
      "cell_type": "code",
      "source": [
        "training = model_1.fit(X_train, Y_train, batch_size=64, epochs=70, validation_split=0.2)\n",
        "\n",
        "test_loss, test_acc = model_1.evaluate(X_test, Y_test)\n",
        "print('Test accuracy:', test_acc)\n"
      ],
      "metadata": {
        "colab": {
          "base_uri": "https://localhost:8080/"
        },
        "id": "N7v3ntlKRymz",
        "outputId": "ad19e0f1-8bde-4454-d3ed-7710ed7a12b7"
      },
      "execution_count": 11,
      "outputs": [
        {
          "output_type": "stream",
          "name": "stdout",
          "text": [
            "Epoch 1/70\n",
            "750/750 [==============================] - 2s 3ms/step - loss: 1.0743 - accuracy: 0.7577 - val_loss: 0.6515 - val_accuracy: 0.8593\n",
            "Epoch 2/70\n",
            "750/750 [==============================] - 2s 2ms/step - loss: 0.6028 - accuracy: 0.8584 - val_loss: 0.5050 - val_accuracy: 0.8785\n",
            "Epoch 3/70\n",
            "750/750 [==============================] - 2s 2ms/step - loss: 0.5089 - accuracy: 0.8725 - val_loss: 0.4472 - val_accuracy: 0.8878\n",
            "Epoch 4/70\n",
            "750/750 [==============================] - 2s 2ms/step - loss: 0.4635 - accuracy: 0.8805 - val_loss: 0.4156 - val_accuracy: 0.8923\n",
            "Epoch 5/70\n",
            "750/750 [==============================] - 2s 2ms/step - loss: 0.4357 - accuracy: 0.8856 - val_loss: 0.3949 - val_accuracy: 0.8957\n",
            "Epoch 6/70\n",
            "750/750 [==============================] - 2s 3ms/step - loss: 0.4163 - accuracy: 0.8886 - val_loss: 0.3801 - val_accuracy: 0.9006\n",
            "Epoch 7/70\n",
            "750/750 [==============================] - 2s 3ms/step - loss: 0.4018 - accuracy: 0.8922 - val_loss: 0.3690 - val_accuracy: 0.9018\n",
            "Epoch 8/70\n",
            "750/750 [==============================] - 2s 2ms/step - loss: 0.3904 - accuracy: 0.8943 - val_loss: 0.3599 - val_accuracy: 0.9037\n",
            "Epoch 9/70\n",
            "750/750 [==============================] - 2s 2ms/step - loss: 0.3810 - accuracy: 0.8966 - val_loss: 0.3533 - val_accuracy: 0.9038\n",
            "Epoch 10/70\n",
            "750/750 [==============================] - 2s 3ms/step - loss: 0.3733 - accuracy: 0.8980 - val_loss: 0.3469 - val_accuracy: 0.9040\n",
            "Epoch 11/70\n",
            "750/750 [==============================] - 2s 2ms/step - loss: 0.3667 - accuracy: 0.8991 - val_loss: 0.3417 - val_accuracy: 0.9078\n",
            "Epoch 12/70\n",
            "750/750 [==============================] - 2s 2ms/step - loss: 0.3610 - accuracy: 0.9007 - val_loss: 0.3370 - val_accuracy: 0.9076\n",
            "Epoch 13/70\n",
            "750/750 [==============================] - 3s 3ms/step - loss: 0.3560 - accuracy: 0.9016 - val_loss: 0.3329 - val_accuracy: 0.9093\n",
            "Epoch 14/70\n",
            "750/750 [==============================] - 2s 2ms/step - loss: 0.3515 - accuracy: 0.9024 - val_loss: 0.3295 - val_accuracy: 0.9098\n",
            "Epoch 15/70\n",
            "750/750 [==============================] - 2s 2ms/step - loss: 0.3476 - accuracy: 0.9039 - val_loss: 0.3261 - val_accuracy: 0.9101\n",
            "Epoch 16/70\n",
            "750/750 [==============================] - 2s 2ms/step - loss: 0.3439 - accuracy: 0.9049 - val_loss: 0.3236 - val_accuracy: 0.9108\n",
            "Epoch 17/70\n",
            "750/750 [==============================] - 2s 2ms/step - loss: 0.3406 - accuracy: 0.9056 - val_loss: 0.3209 - val_accuracy: 0.9118\n",
            "Epoch 18/70\n",
            "750/750 [==============================] - 2s 2ms/step - loss: 0.3376 - accuracy: 0.9059 - val_loss: 0.3185 - val_accuracy: 0.9121\n",
            "Epoch 19/70\n",
            "750/750 [==============================] - 2s 2ms/step - loss: 0.3349 - accuracy: 0.9072 - val_loss: 0.3162 - val_accuracy: 0.9130\n",
            "Epoch 20/70\n",
            "750/750 [==============================] - 3s 4ms/step - loss: 0.3324 - accuracy: 0.9075 - val_loss: 0.3146 - val_accuracy: 0.9131\n",
            "Epoch 21/70\n",
            "750/750 [==============================] - 2s 3ms/step - loss: 0.3300 - accuracy: 0.9083 - val_loss: 0.3125 - val_accuracy: 0.9136\n",
            "Epoch 22/70\n",
            "750/750 [==============================] - 2s 3ms/step - loss: 0.3278 - accuracy: 0.9087 - val_loss: 0.3109 - val_accuracy: 0.9140\n",
            "Epoch 23/70\n",
            "750/750 [==============================] - 2s 2ms/step - loss: 0.3257 - accuracy: 0.9094 - val_loss: 0.3094 - val_accuracy: 0.9148\n",
            "Epoch 24/70\n",
            "750/750 [==============================] - 2s 2ms/step - loss: 0.3238 - accuracy: 0.9100 - val_loss: 0.3078 - val_accuracy: 0.9145\n",
            "Epoch 25/70\n",
            "750/750 [==============================] - 2s 2ms/step - loss: 0.3220 - accuracy: 0.9101 - val_loss: 0.3067 - val_accuracy: 0.9147\n",
            "Epoch 26/70\n",
            "750/750 [==============================] - 2s 2ms/step - loss: 0.3203 - accuracy: 0.9109 - val_loss: 0.3053 - val_accuracy: 0.9157\n",
            "Epoch 27/70\n",
            "750/750 [==============================] - 3s 3ms/step - loss: 0.3187 - accuracy: 0.9112 - val_loss: 0.3039 - val_accuracy: 0.9162\n",
            "Epoch 28/70\n",
            "750/750 [==============================] - 2s 2ms/step - loss: 0.3172 - accuracy: 0.9116 - val_loss: 0.3027 - val_accuracy: 0.9161\n",
            "Epoch 29/70\n",
            "750/750 [==============================] - 2s 2ms/step - loss: 0.3157 - accuracy: 0.9122 - val_loss: 0.3016 - val_accuracy: 0.9164\n",
            "Epoch 30/70\n",
            "750/750 [==============================] - 2s 2ms/step - loss: 0.3143 - accuracy: 0.9124 - val_loss: 0.3006 - val_accuracy: 0.9164\n",
            "Epoch 31/70\n",
            "750/750 [==============================] - 2s 2ms/step - loss: 0.3130 - accuracy: 0.9131 - val_loss: 0.2999 - val_accuracy: 0.9170\n",
            "Epoch 32/70\n",
            "750/750 [==============================] - 2s 2ms/step - loss: 0.3118 - accuracy: 0.9135 - val_loss: 0.2986 - val_accuracy: 0.9171\n",
            "Epoch 33/70\n",
            "750/750 [==============================] - 2s 2ms/step - loss: 0.3106 - accuracy: 0.9138 - val_loss: 0.2977 - val_accuracy: 0.9165\n",
            "Epoch 34/70\n",
            "750/750 [==============================] - 2s 3ms/step - loss: 0.3094 - accuracy: 0.9142 - val_loss: 0.2972 - val_accuracy: 0.9163\n",
            "Epoch 35/70\n",
            "750/750 [==============================] - 2s 3ms/step - loss: 0.3084 - accuracy: 0.9143 - val_loss: 0.2961 - val_accuracy: 0.9173\n",
            "Epoch 36/70\n",
            "750/750 [==============================] - 2s 2ms/step - loss: 0.3073 - accuracy: 0.9146 - val_loss: 0.2953 - val_accuracy: 0.9175\n",
            "Epoch 37/70\n",
            "750/750 [==============================] - 2s 2ms/step - loss: 0.3063 - accuracy: 0.9148 - val_loss: 0.2946 - val_accuracy: 0.9169\n",
            "Epoch 38/70\n",
            "750/750 [==============================] - 2s 2ms/step - loss: 0.3053 - accuracy: 0.9153 - val_loss: 0.2940 - val_accuracy: 0.9180\n",
            "Epoch 39/70\n",
            "750/750 [==============================] - 2s 2ms/step - loss: 0.3044 - accuracy: 0.9155 - val_loss: 0.2934 - val_accuracy: 0.9178\n",
            "Epoch 40/70\n",
            "750/750 [==============================] - 2s 2ms/step - loss: 0.3035 - accuracy: 0.9152 - val_loss: 0.2927 - val_accuracy: 0.9185\n",
            "Epoch 41/70\n",
            "750/750 [==============================] - 2s 2ms/step - loss: 0.3026 - accuracy: 0.9156 - val_loss: 0.2920 - val_accuracy: 0.9187\n",
            "Epoch 42/70\n",
            "750/750 [==============================] - 2s 3ms/step - loss: 0.3018 - accuracy: 0.9160 - val_loss: 0.2913 - val_accuracy: 0.9178\n",
            "Epoch 43/70\n",
            "750/750 [==============================] - 2s 3ms/step - loss: 0.3009 - accuracy: 0.9164 - val_loss: 0.2911 - val_accuracy: 0.9193\n",
            "Epoch 44/70\n",
            "750/750 [==============================] - 2s 2ms/step - loss: 0.3002 - accuracy: 0.9165 - val_loss: 0.2903 - val_accuracy: 0.9190\n",
            "Epoch 45/70\n",
            "750/750 [==============================] - 2s 2ms/step - loss: 0.2994 - accuracy: 0.9171 - val_loss: 0.2898 - val_accuracy: 0.9187\n",
            "Epoch 46/70\n",
            "750/750 [==============================] - 2s 2ms/step - loss: 0.2988 - accuracy: 0.9171 - val_loss: 0.2892 - val_accuracy: 0.9189\n",
            "Epoch 47/70\n",
            "750/750 [==============================] - 2s 2ms/step - loss: 0.2980 - accuracy: 0.9173 - val_loss: 0.2887 - val_accuracy: 0.9193\n",
            "Epoch 48/70\n",
            "750/750 [==============================] - 2s 2ms/step - loss: 0.2973 - accuracy: 0.9173 - val_loss: 0.2881 - val_accuracy: 0.9190\n",
            "Epoch 49/70\n",
            "750/750 [==============================] - 2s 3ms/step - loss: 0.2966 - accuracy: 0.9177 - val_loss: 0.2878 - val_accuracy: 0.9190\n",
            "Epoch 50/70\n",
            "750/750 [==============================] - 2s 3ms/step - loss: 0.2960 - accuracy: 0.9177 - val_loss: 0.2874 - val_accuracy: 0.9196\n",
            "Epoch 51/70\n",
            "750/750 [==============================] - 2s 2ms/step - loss: 0.2953 - accuracy: 0.9178 - val_loss: 0.2871 - val_accuracy: 0.9199\n",
            "Epoch 52/70\n",
            "750/750 [==============================] - 2s 2ms/step - loss: 0.2947 - accuracy: 0.9183 - val_loss: 0.2865 - val_accuracy: 0.9198\n",
            "Epoch 53/70\n",
            "750/750 [==============================] - 2s 2ms/step - loss: 0.2941 - accuracy: 0.9181 - val_loss: 0.2860 - val_accuracy: 0.9202\n",
            "Epoch 54/70\n",
            "750/750 [==============================] - 2s 3ms/step - loss: 0.2936 - accuracy: 0.9183 - val_loss: 0.2856 - val_accuracy: 0.9197\n",
            "Epoch 55/70\n",
            "750/750 [==============================] - 2s 3ms/step - loss: 0.2930 - accuracy: 0.9185 - val_loss: 0.2852 - val_accuracy: 0.9208\n",
            "Epoch 56/70\n",
            "750/750 [==============================] - 3s 4ms/step - loss: 0.2925 - accuracy: 0.9190 - val_loss: 0.2848 - val_accuracy: 0.9206\n",
            "Epoch 57/70\n",
            "750/750 [==============================] - 2s 2ms/step - loss: 0.2919 - accuracy: 0.9192 - val_loss: 0.2847 - val_accuracy: 0.9206\n",
            "Epoch 58/70\n",
            "750/750 [==============================] - 2s 2ms/step - loss: 0.2914 - accuracy: 0.9193 - val_loss: 0.2841 - val_accuracy: 0.9209\n",
            "Epoch 59/70\n",
            "750/750 [==============================] - 2s 2ms/step - loss: 0.2909 - accuracy: 0.9192 - val_loss: 0.2837 - val_accuracy: 0.9208\n",
            "Epoch 60/70\n",
            "750/750 [==============================] - 2s 2ms/step - loss: 0.2904 - accuracy: 0.9191 - val_loss: 0.2833 - val_accuracy: 0.9209\n",
            "Epoch 61/70\n",
            "750/750 [==============================] - 2s 2ms/step - loss: 0.2899 - accuracy: 0.9196 - val_loss: 0.2833 - val_accuracy: 0.9210\n",
            "Epoch 62/70\n",
            "750/750 [==============================] - 2s 2ms/step - loss: 0.2894 - accuracy: 0.9199 - val_loss: 0.2829 - val_accuracy: 0.9210\n",
            "Epoch 63/70\n",
            "750/750 [==============================] - 2s 3ms/step - loss: 0.2889 - accuracy: 0.9199 - val_loss: 0.2826 - val_accuracy: 0.9216\n",
            "Epoch 64/70\n",
            "750/750 [==============================] - 2s 2ms/step - loss: 0.2885 - accuracy: 0.9199 - val_loss: 0.2821 - val_accuracy: 0.9213\n",
            "Epoch 65/70\n",
            "750/750 [==============================] - 2s 2ms/step - loss: 0.2880 - accuracy: 0.9198 - val_loss: 0.2820 - val_accuracy: 0.9212\n",
            "Epoch 66/70\n",
            "750/750 [==============================] - 2s 3ms/step - loss: 0.2876 - accuracy: 0.9200 - val_loss: 0.2816 - val_accuracy: 0.9212\n",
            "Epoch 67/70\n",
            "750/750 [==============================] - 2s 3ms/step - loss: 0.2871 - accuracy: 0.9204 - val_loss: 0.2815 - val_accuracy: 0.9211\n",
            "Epoch 68/70\n",
            "750/750 [==============================] - 2s 2ms/step - loss: 0.2868 - accuracy: 0.9202 - val_loss: 0.2811 - val_accuracy: 0.9212\n",
            "Epoch 69/70\n",
            "750/750 [==============================] - 2s 3ms/step - loss: 0.2863 - accuracy: 0.9204 - val_loss: 0.2810 - val_accuracy: 0.9211\n",
            "Epoch 70/70\n",
            "750/750 [==============================] - 2s 3ms/step - loss: 0.2860 - accuracy: 0.9205 - val_loss: 0.2806 - val_accuracy: 0.9213\n",
            "313/313 [==============================] - 0s 1ms/step - loss: 0.2820 - accuracy: 0.9218\n",
            "Test accuracy: 0.9218000173568726\n"
          ]
        }
      ]
    },
    {
      "cell_type": "code",
      "source": [
        "model_2 = tf.keras,Sequential()\n",
        "\n",
        "model_2 = tf.keras.Sequential()\n",
        "N_hidden = 64\n"
      ],
      "metadata": {
        "id": "i1dTXGRFR1nt"
      },
      "execution_count": 12,
      "outputs": []
    },
    {
      "cell_type": "code",
      "source": [
        "model_2.add(Dense(N_hidden, name='dense_layer', input_shape=(784,), activation = 'relu'))\n",
        "\n",
        "model_2.add(Dense(N_hidden, name='dense_layer_2', activation='relu'))\n",
        "\n",
        "model_2.add(Dense(10, name='dense_layer_3', activation = 'softmax'))\n"
      ],
      "metadata": {
        "id": "32W1Jol3S-M4"
      },
      "execution_count": 13,
      "outputs": []
    },
    {
      "cell_type": "code",
      "source": [
        "\n",
        "model_2.compile(optimizer='SGD',\n",
        "loss='categorical_crossentropy',\n",
        "metrics=['accuracy'])\n"
      ],
      "metadata": {
        "id": "vACGcnzpTAUg"
      },
      "execution_count": 14,
      "outputs": []
    },
    {
      "cell_type": "code",
      "source": [
        "training = model_2.fit(X_train, Y_train, batch_size=64, epochs=100, validation_split=0.2)\n",
        "\n",
        "test_loss, test_acc = model_1.evaluate(X_test, Y_test)\n",
        "print(test_acc)"
      ],
      "metadata": {
        "colab": {
          "base_uri": "https://localhost:8080/"
        },
        "id": "PgzUcLyVTBuY",
        "outputId": "6c94685b-44a7-451c-aa1f-829040822a44"
      },
      "execution_count": 16,
      "outputs": [
        {
          "output_type": "stream",
          "name": "stdout",
          "text": [
            "Epoch 1/100\n",
            "750/750 [==============================] - 3s 4ms/step - loss: 1.1025 - accuracy: 0.7110 - val_loss: 0.4742 - val_accuracy: 0.8772\n",
            "Epoch 2/100\n",
            "750/750 [==============================] - 2s 3ms/step - loss: 0.4236 - accuracy: 0.8840 - val_loss: 0.3460 - val_accuracy: 0.9034\n",
            "Epoch 3/100\n",
            "750/750 [==============================] - 2s 3ms/step - loss: 0.3448 - accuracy: 0.9019 - val_loss: 0.3072 - val_accuracy: 0.9142\n",
            "Epoch 4/100\n",
            "750/750 [==============================] - 2s 3ms/step - loss: 0.3095 - accuracy: 0.9114 - val_loss: 0.2814 - val_accuracy: 0.9196\n",
            "Epoch 5/100\n",
            "750/750 [==============================] - 3s 4ms/step - loss: 0.2858 - accuracy: 0.9176 - val_loss: 0.2657 - val_accuracy: 0.9233\n",
            "Epoch 6/100\n",
            "750/750 [==============================] - 2s 3ms/step - loss: 0.2674 - accuracy: 0.9229 - val_loss: 0.2476 - val_accuracy: 0.9296\n",
            "Epoch 7/100\n",
            "750/750 [==============================] - 2s 3ms/step - loss: 0.2518 - accuracy: 0.9276 - val_loss: 0.2371 - val_accuracy: 0.9326\n",
            "Epoch 8/100\n",
            "750/750 [==============================] - 2s 3ms/step - loss: 0.2382 - accuracy: 0.9313 - val_loss: 0.2266 - val_accuracy: 0.9354\n",
            "Epoch 9/100\n",
            "750/750 [==============================] - 2s 3ms/step - loss: 0.2259 - accuracy: 0.9348 - val_loss: 0.2159 - val_accuracy: 0.9397\n",
            "Epoch 10/100\n",
            "750/750 [==============================] - 3s 4ms/step - loss: 0.2145 - accuracy: 0.9378 - val_loss: 0.2089 - val_accuracy: 0.9419\n",
            "Epoch 11/100\n",
            "750/750 [==============================] - 3s 4ms/step - loss: 0.2047 - accuracy: 0.9412 - val_loss: 0.1992 - val_accuracy: 0.9449\n",
            "Epoch 12/100\n",
            "750/750 [==============================] - 3s 3ms/step - loss: 0.1957 - accuracy: 0.9430 - val_loss: 0.1933 - val_accuracy: 0.9452\n",
            "Epoch 13/100\n",
            "750/750 [==============================] - 2s 3ms/step - loss: 0.1873 - accuracy: 0.9461 - val_loss: 0.1862 - val_accuracy: 0.9483\n",
            "Epoch 14/100\n",
            "750/750 [==============================] - 3s 4ms/step - loss: 0.1800 - accuracy: 0.9478 - val_loss: 0.1794 - val_accuracy: 0.9502\n",
            "Epoch 15/100\n",
            "750/750 [==============================] - 3s 4ms/step - loss: 0.1730 - accuracy: 0.9500 - val_loss: 0.1756 - val_accuracy: 0.9511\n",
            "Epoch 16/100\n",
            "750/750 [==============================] - 3s 4ms/step - loss: 0.1668 - accuracy: 0.9513 - val_loss: 0.1689 - val_accuracy: 0.9528\n",
            "Epoch 17/100\n",
            "750/750 [==============================] - 3s 3ms/step - loss: 0.1608 - accuracy: 0.9531 - val_loss: 0.1658 - val_accuracy: 0.9536\n",
            "Epoch 18/100\n",
            "750/750 [==============================] - 2s 3ms/step - loss: 0.1555 - accuracy: 0.9553 - val_loss: 0.1616 - val_accuracy: 0.9552\n",
            "Epoch 19/100\n",
            "750/750 [==============================] - 2s 3ms/step - loss: 0.1503 - accuracy: 0.9561 - val_loss: 0.1584 - val_accuracy: 0.9567\n",
            "Epoch 20/100\n",
            "750/750 [==============================] - 3s 4ms/step - loss: 0.1456 - accuracy: 0.9575 - val_loss: 0.1554 - val_accuracy: 0.9567\n",
            "Epoch 21/100\n",
            "750/750 [==============================] - 3s 4ms/step - loss: 0.1412 - accuracy: 0.9588 - val_loss: 0.1507 - val_accuracy: 0.9580\n",
            "Epoch 22/100\n",
            "750/750 [==============================] - 2s 3ms/step - loss: 0.1372 - accuracy: 0.9596 - val_loss: 0.1483 - val_accuracy: 0.9582\n",
            "Epoch 23/100\n",
            "750/750 [==============================] - 3s 3ms/step - loss: 0.1327 - accuracy: 0.9609 - val_loss: 0.1457 - val_accuracy: 0.9600\n",
            "Epoch 24/100\n",
            "750/750 [==============================] - 3s 3ms/step - loss: 0.1292 - accuracy: 0.9624 - val_loss: 0.1421 - val_accuracy: 0.9599\n",
            "Epoch 25/100\n",
            "750/750 [==============================] - 3s 4ms/step - loss: 0.1252 - accuracy: 0.9635 - val_loss: 0.1409 - val_accuracy: 0.9601\n",
            "Epoch 26/100\n",
            "750/750 [==============================] - 3s 3ms/step - loss: 0.1219 - accuracy: 0.9649 - val_loss: 0.1385 - val_accuracy: 0.9606\n",
            "Epoch 27/100\n",
            "750/750 [==============================] - 2s 3ms/step - loss: 0.1186 - accuracy: 0.9655 - val_loss: 0.1358 - val_accuracy: 0.9619\n",
            "Epoch 28/100\n",
            "750/750 [==============================] - 2s 3ms/step - loss: 0.1153 - accuracy: 0.9668 - val_loss: 0.1335 - val_accuracy: 0.9611\n",
            "Epoch 29/100\n",
            "750/750 [==============================] - 2s 3ms/step - loss: 0.1121 - accuracy: 0.9676 - val_loss: 0.1318 - val_accuracy: 0.9622\n",
            "Epoch 30/100\n",
            "750/750 [==============================] - 3s 4ms/step - loss: 0.1092 - accuracy: 0.9682 - val_loss: 0.1315 - val_accuracy: 0.9619\n",
            "Epoch 31/100\n",
            "750/750 [==============================] - 3s 4ms/step - loss: 0.1064 - accuracy: 0.9688 - val_loss: 0.1270 - val_accuracy: 0.9632\n",
            "Epoch 32/100\n",
            "750/750 [==============================] - 2s 3ms/step - loss: 0.1037 - accuracy: 0.9705 - val_loss: 0.1264 - val_accuracy: 0.9632\n",
            "Epoch 33/100\n",
            "750/750 [==============================] - 2s 3ms/step - loss: 0.1009 - accuracy: 0.9706 - val_loss: 0.1274 - val_accuracy: 0.9632\n",
            "Epoch 34/100\n",
            "750/750 [==============================] - 2s 3ms/step - loss: 0.0987 - accuracy: 0.9716 - val_loss: 0.1237 - val_accuracy: 0.9643\n",
            "Epoch 35/100\n",
            "750/750 [==============================] - 3s 4ms/step - loss: 0.0962 - accuracy: 0.9726 - val_loss: 0.1229 - val_accuracy: 0.9632\n",
            "Epoch 36/100\n",
            "750/750 [==============================] - 4s 5ms/step - loss: 0.0942 - accuracy: 0.9732 - val_loss: 0.1203 - val_accuracy: 0.9653\n",
            "Epoch 37/100\n",
            "750/750 [==============================] - 2s 3ms/step - loss: 0.0921 - accuracy: 0.9734 - val_loss: 0.1203 - val_accuracy: 0.9655\n",
            "Epoch 38/100\n",
            "750/750 [==============================] - 3s 3ms/step - loss: 0.0899 - accuracy: 0.9746 - val_loss: 0.1173 - val_accuracy: 0.9657\n",
            "Epoch 39/100\n",
            "750/750 [==============================] - 3s 4ms/step - loss: 0.0875 - accuracy: 0.9751 - val_loss: 0.1167 - val_accuracy: 0.9656\n",
            "Epoch 40/100\n",
            "750/750 [==============================] - 4s 5ms/step - loss: 0.0858 - accuracy: 0.9754 - val_loss: 0.1161 - val_accuracy: 0.9662\n",
            "Epoch 41/100\n",
            "750/750 [==============================] - 2s 3ms/step - loss: 0.0838 - accuracy: 0.9762 - val_loss: 0.1149 - val_accuracy: 0.9665\n",
            "Epoch 42/100\n",
            "750/750 [==============================] - 2s 3ms/step - loss: 0.0817 - accuracy: 0.9766 - val_loss: 0.1144 - val_accuracy: 0.9657\n",
            "Epoch 43/100\n",
            "750/750 [==============================] - 2s 3ms/step - loss: 0.0801 - accuracy: 0.9775 - val_loss: 0.1124 - val_accuracy: 0.9657\n",
            "Epoch 44/100\n",
            "750/750 [==============================] - 3s 3ms/step - loss: 0.0787 - accuracy: 0.9781 - val_loss: 0.1115 - val_accuracy: 0.9670\n",
            "Epoch 45/100\n",
            "750/750 [==============================] - 3s 4ms/step - loss: 0.0767 - accuracy: 0.9785 - val_loss: 0.1115 - val_accuracy: 0.9663\n",
            "Epoch 46/100\n",
            "750/750 [==============================] - 3s 4ms/step - loss: 0.0751 - accuracy: 0.9793 - val_loss: 0.1100 - val_accuracy: 0.9672\n",
            "Epoch 47/100\n",
            "750/750 [==============================] - 2s 3ms/step - loss: 0.0736 - accuracy: 0.9791 - val_loss: 0.1104 - val_accuracy: 0.9676\n",
            "Epoch 48/100\n",
            "750/750 [==============================] - 2s 3ms/step - loss: 0.0725 - accuracy: 0.9799 - val_loss: 0.1086 - val_accuracy: 0.9669\n",
            "Epoch 49/100\n",
            "750/750 [==============================] - 2s 3ms/step - loss: 0.0706 - accuracy: 0.9800 - val_loss: 0.1103 - val_accuracy: 0.9678\n",
            "Epoch 50/100\n",
            "750/750 [==============================] - 3s 4ms/step - loss: 0.0693 - accuracy: 0.9806 - val_loss: 0.1096 - val_accuracy: 0.9673\n",
            "Epoch 51/100\n",
            "750/750 [==============================] - 3s 4ms/step - loss: 0.0677 - accuracy: 0.9812 - val_loss: 0.1086 - val_accuracy: 0.9675\n",
            "Epoch 52/100\n",
            "750/750 [==============================] - 2s 3ms/step - loss: 0.0665 - accuracy: 0.9813 - val_loss: 0.1078 - val_accuracy: 0.9681\n",
            "Epoch 53/100\n",
            "750/750 [==============================] - 2s 3ms/step - loss: 0.0652 - accuracy: 0.9816 - val_loss: 0.1066 - val_accuracy: 0.9688\n",
            "Epoch 54/100\n",
            "750/750 [==============================] - 2s 3ms/step - loss: 0.0638 - accuracy: 0.9824 - val_loss: 0.1089 - val_accuracy: 0.9682\n",
            "Epoch 55/100\n",
            "750/750 [==============================] - 2s 3ms/step - loss: 0.0627 - accuracy: 0.9825 - val_loss: 0.1051 - val_accuracy: 0.9680\n",
            "Epoch 56/100\n",
            "750/750 [==============================] - 3s 4ms/step - loss: 0.0615 - accuracy: 0.9825 - val_loss: 0.1059 - val_accuracy: 0.9693\n",
            "Epoch 57/100\n",
            "750/750 [==============================] - 2s 3ms/step - loss: 0.0601 - accuracy: 0.9832 - val_loss: 0.1065 - val_accuracy: 0.9681\n",
            "Epoch 58/100\n",
            "750/750 [==============================] - 2s 3ms/step - loss: 0.0589 - accuracy: 0.9834 - val_loss: 0.1044 - val_accuracy: 0.9686\n",
            "Epoch 59/100\n",
            "750/750 [==============================] - 3s 4ms/step - loss: 0.0579 - accuracy: 0.9839 - val_loss: 0.1042 - val_accuracy: 0.9689\n",
            "Epoch 60/100\n",
            "750/750 [==============================] - 3s 3ms/step - loss: 0.0568 - accuracy: 0.9846 - val_loss: 0.1033 - val_accuracy: 0.9699\n",
            "Epoch 61/100\n",
            "750/750 [==============================] - 4s 5ms/step - loss: 0.0556 - accuracy: 0.9848 - val_loss: 0.1040 - val_accuracy: 0.9690\n",
            "Epoch 62/100\n",
            "750/750 [==============================] - 2s 3ms/step - loss: 0.0547 - accuracy: 0.9853 - val_loss: 0.1030 - val_accuracy: 0.9688\n",
            "Epoch 63/100\n",
            "750/750 [==============================] - 2s 3ms/step - loss: 0.0536 - accuracy: 0.9855 - val_loss: 0.1030 - val_accuracy: 0.9695\n",
            "Epoch 64/100\n",
            "750/750 [==============================] - 2s 3ms/step - loss: 0.0526 - accuracy: 0.9860 - val_loss: 0.1030 - val_accuracy: 0.9695\n",
            "Epoch 65/100\n",
            "750/750 [==============================] - 2s 3ms/step - loss: 0.0515 - accuracy: 0.9861 - val_loss: 0.1038 - val_accuracy: 0.9702\n",
            "Epoch 66/100\n",
            "750/750 [==============================] - 3s 5ms/step - loss: 0.0506 - accuracy: 0.9864 - val_loss: 0.1033 - val_accuracy: 0.9697\n",
            "Epoch 67/100\n",
            "750/750 [==============================] - 3s 3ms/step - loss: 0.0497 - accuracy: 0.9870 - val_loss: 0.1029 - val_accuracy: 0.9693\n",
            "Epoch 68/100\n",
            "750/750 [==============================] - 3s 3ms/step - loss: 0.0487 - accuracy: 0.9868 - val_loss: 0.1028 - val_accuracy: 0.9697\n",
            "Epoch 69/100\n",
            "750/750 [==============================] - 2s 3ms/step - loss: 0.0480 - accuracy: 0.9873 - val_loss: 0.1010 - val_accuracy: 0.9708\n",
            "Epoch 70/100\n",
            "750/750 [==============================] - 3s 4ms/step - loss: 0.0471 - accuracy: 0.9874 - val_loss: 0.1023 - val_accuracy: 0.9693\n",
            "Epoch 71/100\n",
            "750/750 [==============================] - 3s 4ms/step - loss: 0.0461 - accuracy: 0.9882 - val_loss: 0.1012 - val_accuracy: 0.9698\n",
            "Epoch 72/100\n",
            "750/750 [==============================] - 2s 3ms/step - loss: 0.0453 - accuracy: 0.9882 - val_loss: 0.1026 - val_accuracy: 0.9695\n",
            "Epoch 73/100\n",
            "750/750 [==============================] - 2s 3ms/step - loss: 0.0446 - accuracy: 0.9885 - val_loss: 0.1017 - val_accuracy: 0.9710\n",
            "Epoch 74/100\n",
            "750/750 [==============================] - 3s 3ms/step - loss: 0.0437 - accuracy: 0.9887 - val_loss: 0.1009 - val_accuracy: 0.9703\n",
            "Epoch 75/100\n",
            "750/750 [==============================] - 3s 4ms/step - loss: 0.0430 - accuracy: 0.9888 - val_loss: 0.1022 - val_accuracy: 0.9701\n",
            "Epoch 76/100\n",
            "750/750 [==============================] - 3s 4ms/step - loss: 0.0422 - accuracy: 0.9892 - val_loss: 0.1010 - val_accuracy: 0.9707\n",
            "Epoch 77/100\n",
            "750/750 [==============================] - 2s 3ms/step - loss: 0.0412 - accuracy: 0.9897 - val_loss: 0.1050 - val_accuracy: 0.9698\n",
            "Epoch 78/100\n",
            "750/750 [==============================] - 2s 3ms/step - loss: 0.0407 - accuracy: 0.9899 - val_loss: 0.1006 - val_accuracy: 0.9706\n",
            "Epoch 79/100\n",
            "750/750 [==============================] - 2s 3ms/step - loss: 0.0400 - accuracy: 0.9902 - val_loss: 0.1009 - val_accuracy: 0.9707\n",
            "Epoch 80/100\n",
            "750/750 [==============================] - 2s 3ms/step - loss: 0.0394 - accuracy: 0.9901 - val_loss: 0.1011 - val_accuracy: 0.9710\n",
            "Epoch 81/100\n",
            "750/750 [==============================] - 4s 5ms/step - loss: 0.0385 - accuracy: 0.9905 - val_loss: 0.1014 - val_accuracy: 0.9710\n",
            "Epoch 82/100\n",
            "750/750 [==============================] - 3s 4ms/step - loss: 0.0379 - accuracy: 0.9908 - val_loss: 0.1014 - val_accuracy: 0.9708\n",
            "Epoch 83/100\n",
            "750/750 [==============================] - 2s 3ms/step - loss: 0.0372 - accuracy: 0.9910 - val_loss: 0.1003 - val_accuracy: 0.9703\n",
            "Epoch 84/100\n",
            "750/750 [==============================] - 2s 3ms/step - loss: 0.0366 - accuracy: 0.9912 - val_loss: 0.1014 - val_accuracy: 0.9703\n",
            "Epoch 85/100\n",
            "750/750 [==============================] - 2s 3ms/step - loss: 0.0360 - accuracy: 0.9916 - val_loss: 0.1010 - val_accuracy: 0.9702\n",
            "Epoch 86/100\n",
            "750/750 [==============================] - 3s 4ms/step - loss: 0.0353 - accuracy: 0.9917 - val_loss: 0.1009 - val_accuracy: 0.9702\n",
            "Epoch 87/100\n",
            "750/750 [==============================] - 3s 4ms/step - loss: 0.0346 - accuracy: 0.9919 - val_loss: 0.1017 - val_accuracy: 0.9707\n",
            "Epoch 88/100\n",
            "750/750 [==============================] - 3s 4ms/step - loss: 0.0342 - accuracy: 0.9918 - val_loss: 0.1003 - val_accuracy: 0.9705\n",
            "Epoch 89/100\n",
            "750/750 [==============================] - 2s 3ms/step - loss: 0.0336 - accuracy: 0.9920 - val_loss: 0.1019 - val_accuracy: 0.9696\n",
            "Epoch 90/100\n",
            "750/750 [==============================] - 3s 4ms/step - loss: 0.0328 - accuracy: 0.9925 - val_loss: 0.1012 - val_accuracy: 0.9714\n",
            "Epoch 91/100\n",
            "750/750 [==============================] - 3s 4ms/step - loss: 0.0322 - accuracy: 0.9929 - val_loss: 0.1023 - val_accuracy: 0.9707\n",
            "Epoch 92/100\n",
            "750/750 [==============================] - 3s 4ms/step - loss: 0.0319 - accuracy: 0.9927 - val_loss: 0.1018 - val_accuracy: 0.9703\n",
            "Epoch 93/100\n",
            "750/750 [==============================] - 2s 3ms/step - loss: 0.0312 - accuracy: 0.9929 - val_loss: 0.1018 - val_accuracy: 0.9705\n",
            "Epoch 94/100\n",
            "750/750 [==============================] - 2s 3ms/step - loss: 0.0308 - accuracy: 0.9931 - val_loss: 0.1019 - val_accuracy: 0.9707\n",
            "Epoch 95/100\n",
            "750/750 [==============================] - 3s 4ms/step - loss: 0.0302 - accuracy: 0.9929 - val_loss: 0.1016 - val_accuracy: 0.9712\n",
            "Epoch 96/100\n",
            "750/750 [==============================] - 3s 4ms/step - loss: 0.0298 - accuracy: 0.9932 - val_loss: 0.1023 - val_accuracy: 0.9704\n",
            "Epoch 97/100\n",
            "750/750 [==============================] - 3s 4ms/step - loss: 0.0291 - accuracy: 0.9933 - val_loss: 0.1028 - val_accuracy: 0.9707\n",
            "Epoch 98/100\n",
            "750/750 [==============================] - 2s 3ms/step - loss: 0.0286 - accuracy: 0.9938 - val_loss: 0.1026 - val_accuracy: 0.9718\n",
            "Epoch 99/100\n",
            "750/750 [==============================] - 2s 3ms/step - loss: 0.0282 - accuracy: 0.9937 - val_loss: 0.1023 - val_accuracy: 0.9707\n",
            "Epoch 100/100\n",
            "750/750 [==============================] - 3s 4ms/step - loss: 0.0278 - accuracy: 0.9941 - val_loss: 0.1019 - val_accuracy: 0.9707\n",
            "313/313 [==============================] - 1s 2ms/step - loss: 0.2820 - accuracy: 0.9218\n",
            "0.9218000173568726\n"
          ]
        }
      ]
    }
  ]
}